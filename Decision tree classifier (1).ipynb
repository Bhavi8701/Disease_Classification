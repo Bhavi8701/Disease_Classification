{
 "cells": [
  {
   "cell_type": "markdown",
   "id": "e58671bc",
   "metadata": {},
   "source": [
    "# Decision tree"
   ]
  },
  {
   "cell_type": "markdown",
   "id": "ee819455",
   "metadata": {},
   "source": [
    "A decision tree is a flowchart-like structure in which an internal node represents feature(or attribute), the branch represents a decision rule, and each leaf node represents the outcome. The topmost node in a decision tree is known as the root node. It learns to partition the data into subsets based on the feature values. The goal of the decision tree algorithm is to create a training model that can use to predict the class or value of the target variable by learning simple decision rules inferred from prior data(training data). For each observation, it recursively traverses the tree from the root to a leaf node, then it assigns the class label of the corresponding leaf node as the prediction of the decision tree."
   ]
  },
  {
   "cell_type": "markdown",
   "id": "221e97a5",
   "metadata": {},
   "source": [
    "A decision tree classifier is a type of decision tree algorithm that is used for classification problems. It is a supervised learning algorithm that can be used to solve both binary and multiclass classification problems. The decision tree classifier works by recursively partitioning the data into subsets based on the feature values. The goal of the decision tree classifier is to create a model that can predict the class label of new instances by learning simple decision rules inferred from the training data"
   ]
  },
  {
   "cell_type": "markdown",
   "id": "fe7cab27",
   "metadata": {},
   "source": [
    "## Data collection"
   ]
  },
  {
   "cell_type": "markdown",
   "id": "c621bf3e",
   "metadata": {},
   "source": [
    "Source - GEO Datasets - GSE68607\n",
    "\n",
    "C9ORF72 GGGGCC expanded repeats produce splicing dysregulation which correlates with disease severity in amyotrophic lateral sclerosis .This data set is of 45 samples of which 15 are control and 30 are diseased. The genes were chosen based on the P.value. There are both up regulated and down regulated genes.\n",
    "\n",
    "The genes were first filtered based on the P.value. Then control and diseased samples were extracted from GSE68607(GEO-accession number). The target variable is set as 'outcome' based on the sample taken."
   ]
  },
  {
   "cell_type": "code",
   "execution_count": 20,
   "id": "6fa68144",
   "metadata": {},
   "outputs": [],
   "source": [
    "import pandas as pd\n",
    "import matplotlib.pyplot as plt\n",
    "import seaborn as sns\n",
    "import warnings"
   ]
  },
  {
   "cell_type": "code",
   "execution_count": 21,
   "id": "ca088d93",
   "metadata": {},
   "outputs": [],
   "source": [
    "df = pd.read_csv(\"ALS geodataset.csv\")"
   ]
  },
  {
   "cell_type": "code",
   "execution_count": 22,
   "id": "48aa0f8d",
   "metadata": {},
   "outputs": [
    {
     "data": {
      "text/html": [
       "<div>\n",
       "<style scoped>\n",
       "    .dataframe tbody tr th:only-of-type {\n",
       "        vertical-align: middle;\n",
       "    }\n",
       "\n",
       "    .dataframe tbody tr th {\n",
       "        vertical-align: top;\n",
       "    }\n",
       "\n",
       "    .dataframe thead th {\n",
       "        text-align: right;\n",
       "    }\n",
       "</style>\n",
       "<table border=\"1\" class=\"dataframe\">\n",
       "  <thead>\n",
       "    <tr style=\"text-align: right;\">\n",
       "      <th></th>\n",
       "      <th>LRRFIP1</th>\n",
       "      <th>THADA</th>\n",
       "      <th>RGS6</th>\n",
       "      <th>ZNF638</th>\n",
       "      <th>MMP23B</th>\n",
       "      <th>PLXNB1</th>\n",
       "      <th>RP3-377D14.1</th>\n",
       "      <th>USP34</th>\n",
       "      <th>THADA.1</th>\n",
       "      <th>CYorf15A</th>\n",
       "      <th>...</th>\n",
       "      <th>FOXO4</th>\n",
       "      <th>TRIM59</th>\n",
       "      <th>MUC4.1</th>\n",
       "      <th>MUC4.2</th>\n",
       "      <th>USP39</th>\n",
       "      <th>LRRFIP1.1</th>\n",
       "      <th>MMP23B.1</th>\n",
       "      <th>GRM8</th>\n",
       "      <th>TRIM59.1</th>\n",
       "      <th>outcome</th>\n",
       "    </tr>\n",
       "  </thead>\n",
       "  <tbody>\n",
       "    <tr>\n",
       "      <th>0</th>\n",
       "      <td>9.494352</td>\n",
       "      <td>2.973412</td>\n",
       "      <td>4.060297</td>\n",
       "      <td>3.327416</td>\n",
       "      <td>4.910209</td>\n",
       "      <td>-3.678679</td>\n",
       "      <td>6.033708</td>\n",
       "      <td>3.734166</td>\n",
       "      <td>2.973412</td>\n",
       "      <td>7.211260</td>\n",
       "      <td>...</td>\n",
       "      <td>4.610789</td>\n",
       "      <td>6.233121</td>\n",
       "      <td>4.281915</td>\n",
       "      <td>4.281915</td>\n",
       "      <td>9.077699</td>\n",
       "      <td>11.352656</td>\n",
       "      <td>4.910209</td>\n",
       "      <td>1.937028</td>\n",
       "      <td>6.233121</td>\n",
       "      <td>0</td>\n",
       "    </tr>\n",
       "    <tr>\n",
       "      <th>1</th>\n",
       "      <td>9.652347</td>\n",
       "      <td>1.041723</td>\n",
       "      <td>4.048302</td>\n",
       "      <td>-1.711181</td>\n",
       "      <td>3.676303</td>\n",
       "      <td>-2.834622</td>\n",
       "      <td>6.142283</td>\n",
       "      <td>4.108245</td>\n",
       "      <td>1.041723</td>\n",
       "      <td>7.042854</td>\n",
       "      <td>...</td>\n",
       "      <td>5.150122</td>\n",
       "      <td>6.384305</td>\n",
       "      <td>3.947593</td>\n",
       "      <td>3.947593</td>\n",
       "      <td>9.037315</td>\n",
       "      <td>11.339814</td>\n",
       "      <td>3.676303</td>\n",
       "      <td>3.893425</td>\n",
       "      <td>6.384305</td>\n",
       "      <td>0</td>\n",
       "    </tr>\n",
       "    <tr>\n",
       "      <th>2</th>\n",
       "      <td>10.032375</td>\n",
       "      <td>2.944126</td>\n",
       "      <td>4.073012</td>\n",
       "      <td>3.370234</td>\n",
       "      <td>4.816267</td>\n",
       "      <td>-3.444682</td>\n",
       "      <td>6.042527</td>\n",
       "      <td>4.534576</td>\n",
       "      <td>2.944126</td>\n",
       "      <td>6.876900</td>\n",
       "      <td>...</td>\n",
       "      <td>5.235859</td>\n",
       "      <td>6.954674</td>\n",
       "      <td>-7.450973</td>\n",
       "      <td>-7.450973</td>\n",
       "      <td>9.412453</td>\n",
       "      <td>11.233254</td>\n",
       "      <td>4.816267</td>\n",
       "      <td>4.037966</td>\n",
       "      <td>6.954674</td>\n",
       "      <td>0</td>\n",
       "    </tr>\n",
       "    <tr>\n",
       "      <th>3</th>\n",
       "      <td>9.770127</td>\n",
       "      <td>2.484607</td>\n",
       "      <td>4.132808</td>\n",
       "      <td>3.346088</td>\n",
       "      <td>4.360065</td>\n",
       "      <td>-2.318873</td>\n",
       "      <td>6.029438</td>\n",
       "      <td>3.598812</td>\n",
       "      <td>2.484607</td>\n",
       "      <td>7.280534</td>\n",
       "      <td>...</td>\n",
       "      <td>4.535613</td>\n",
       "      <td>6.557508</td>\n",
       "      <td>3.338574</td>\n",
       "      <td>3.338574</td>\n",
       "      <td>9.243624</td>\n",
       "      <td>11.281713</td>\n",
       "      <td>4.360065</td>\n",
       "      <td>3.634348</td>\n",
       "      <td>6.557508</td>\n",
       "      <td>0</td>\n",
       "    </tr>\n",
       "    <tr>\n",
       "      <th>4</th>\n",
       "      <td>9.684129</td>\n",
       "      <td>2.352003</td>\n",
       "      <td>4.006768</td>\n",
       "      <td>3.999665</td>\n",
       "      <td>4.097268</td>\n",
       "      <td>2.806521</td>\n",
       "      <td>6.013487</td>\n",
       "      <td>4.684030</td>\n",
       "      <td>2.352003</td>\n",
       "      <td>6.488243</td>\n",
       "      <td>...</td>\n",
       "      <td>5.701094</td>\n",
       "      <td>6.594414</td>\n",
       "      <td>4.009281</td>\n",
       "      <td>4.009281</td>\n",
       "      <td>9.403549</td>\n",
       "      <td>11.217501</td>\n",
       "      <td>4.097268</td>\n",
       "      <td>3.822086</td>\n",
       "      <td>6.594414</td>\n",
       "      <td>0</td>\n",
       "    </tr>\n",
       "  </tbody>\n",
       "</table>\n",
       "<p>5 rows × 38 columns</p>\n",
       "</div>"
      ],
      "text/plain": [
       "     LRRFIP1     THADA      RGS6    ZNF638    MMP23B    PLXNB1  RP3-377D14.1  \\\n",
       "0   9.494352  2.973412  4.060297  3.327416  4.910209 -3.678679      6.033708   \n",
       "1   9.652347  1.041723  4.048302 -1.711181  3.676303 -2.834622      6.142283   \n",
       "2  10.032375  2.944126  4.073012  3.370234  4.816267 -3.444682      6.042527   \n",
       "3   9.770127  2.484607  4.132808  3.346088  4.360065 -2.318873      6.029438   \n",
       "4   9.684129  2.352003  4.006768  3.999665  4.097268  2.806521      6.013487   \n",
       "\n",
       "      USP34   THADA.1  CYorf15A  ...     FOXO4    TRIM59    MUC4.1    MUC4.2  \\\n",
       "0  3.734166  2.973412  7.211260  ...  4.610789  6.233121  4.281915  4.281915   \n",
       "1  4.108245  1.041723  7.042854  ...  5.150122  6.384305  3.947593  3.947593   \n",
       "2  4.534576  2.944126  6.876900  ...  5.235859  6.954674 -7.450973 -7.450973   \n",
       "3  3.598812  2.484607  7.280534  ...  4.535613  6.557508  3.338574  3.338574   \n",
       "4  4.684030  2.352003  6.488243  ...  5.701094  6.594414  4.009281  4.009281   \n",
       "\n",
       "      USP39  LRRFIP1.1  MMP23B.1      GRM8  TRIM59.1  outcome  \n",
       "0  9.077699  11.352656  4.910209  1.937028  6.233121        0  \n",
       "1  9.037315  11.339814  3.676303  3.893425  6.384305        0  \n",
       "2  9.412453  11.233254  4.816267  4.037966  6.954674        0  \n",
       "3  9.243624  11.281713  4.360065  3.634348  6.557508        0  \n",
       "4  9.403549  11.217501  4.097268  3.822086  6.594414        0  \n",
       "\n",
       "[5 rows x 38 columns]"
      ]
     },
     "execution_count": 22,
     "metadata": {},
     "output_type": "execute_result"
    }
   ],
   "source": [
    "df.head()"
   ]
  },
  {
   "cell_type": "code",
   "execution_count": 23,
   "id": "618bf5de",
   "metadata": {},
   "outputs": [
    {
     "data": {
      "text/plain": [
       "Index(['LRRFIP1', 'THADA', 'RGS6', 'ZNF638', 'MMP23B', 'PLXNB1',\n",
       "       'RP3-377D14.1', 'USP34', 'THADA.1', 'CYorf15A', 'CHRNA6', 'THSD7B',\n",
       "       'THADA.2', 'MTIF2', 'FAM18B2', 'AC092299.1', 'AC069287.3', 'ARMC10',\n",
       "       'FAM123C', 'USP34.1', 'RP11-339I24.1', 'ZKSCAN4', 'LL22NC03-80A10.2',\n",
       "       'FAM123C.1', 'RPL21', 'SR140', 'MUC4', 'EHBP1', 'FOXO4', 'TRIM59',\n",
       "       'MUC4.1', 'MUC4.2', 'USP39', 'LRRFIP1.1', 'MMP23B.1', 'GRM8',\n",
       "       'TRIM59.1', 'outcome'],\n",
       "      dtype='object')"
      ]
     },
     "execution_count": 23,
     "metadata": {},
     "output_type": "execute_result"
    }
   ],
   "source": [
    "df.columns"
   ]
  },
  {
   "cell_type": "markdown",
   "id": "cf62273a",
   "metadata": {},
   "source": [
    "# Exploratory Data Analysis"
   ]
  },
  {
   "cell_type": "code",
   "execution_count": 25,
   "id": "a26342fc",
   "metadata": {},
   "outputs": [
    {
     "data": {
      "image/png": "[encoded data removed]",
      "text/plain": [
       "<Figure size 432x288 with 1 Axes>"
      ]
     },
     "metadata": {
      "needs_background": "light"
     },
     "output_type": "display_data"
    }
   ],
   "source": [
    "sns.countplot(df['outcome'])\n",
    "warnings.filterwarnings('ignore')"
   ]
  },
  {
   "cell_type": "code",
   "execution_count": 26,
   "id": "ec1e32b0",
   "metadata": {},
   "outputs": [
    {
     "data": {
      "text/plain": [
       "<AxesSubplot:ylabel='outcome'>"
      ]
     },
     "execution_count": 26,
     "metadata": {},
     "output_type": "execute_result"
    },
    {
     "data": {
      "image/png": "[encoded data removed]",
      "text/plain": [
       "<Figure size 432x288 with 1 Axes>"
      ]
     },
     "metadata": {},
     "output_type": "display_data"
    }
   ],
   "source": [
    "df['outcome'].value_counts().plot(kind='pie',autopct='%.2f')"
   ]
  },
  {
   "cell_type": "code",
   "execution_count": 27,
   "id": "f3b2c1a0",
   "metadata": {},
   "outputs": [
    {
     "data": {
      "text/plain": [
       "(array([11., 12.,  6.,  1.,  0.,  0.,  0.,  1.,  4., 10.]),\n",
       " array([ 2.964295,  3.671103,  4.377911,  5.084719,  5.791527,  6.498335,\n",
       "         7.205143,  7.911951,  8.618759,  9.325567, 10.032375]),\n",
       " <BarContainer object of 10 artists>)"
      ]
     },
     "execution_count": 27,
     "metadata": {},
     "output_type": "execute_result"
    },
    {
     "data": {
      "image/png": "[encoded data removed]",
      "text/plain": [
       "<Figure size 432x288 with 1 Axes>"
      ]
     },
     "metadata": {
      "needs_background": "light"
     },
     "output_type": "display_data"
    }
   ],
   "source": [
    "plt.hist(df['LRRFIP1'],bins=10)"
   ]
  },
  {
   "cell_type": "code",
   "execution_count": 28,
   "id": "2aa8df4f",
   "metadata": {},
   "outputs": [
    {
     "data": {
      "text/plain": [
       "<AxesSubplot:xlabel='THADA', ylabel='Density'>"
      ]
     },
     "execution_count": 28,
     "metadata": {},
     "output_type": "execute_result"
    },
    {
     "data": {
      "image/png": "[encoded data removed]",
      "text/plain": [
       "<Figure size 432x288 with 1 Axes>"
      ]
     },
     "metadata": {
      "needs_background": "light"
     },
     "output_type": "display_data"
    }
   ],
   "source": [
    "sns.distplot(df['THADA'])"
   ]
  },
  {
   "cell_type": "code",
   "execution_count": 29,
   "id": "c781a85a",
   "metadata": {},
   "outputs": [
    {
     "data": {
      "text/plain": [
       "<AxesSubplot:xlabel='LRRFIP1', ylabel='THADA'>"
      ]
     },
     "execution_count": 29,
     "metadata": {},
     "output_type": "execute_result"
    },
    {
     "data": {
      "image/png": "[encoded data removed]",
      "text/plain": [
       "<Figure size 432x288 with 1 Axes>"
      ]
     },
     "metadata": {
      "needs_background": "light"
     },
     "output_type": "display_data"
    }
   ],
   "source": [
    "sns.scatterplot(df['LRRFIP1'],df['THADA'])\n",
    "     "
   ]
  },
  {
   "cell_type": "markdown",
   "id": "075f05ef",
   "metadata": {},
   "source": [
    "# Separating the variables"
   ]
  },
  {
   "cell_type": "code",
   "execution_count": 30,
   "id": "b9097d53",
   "metadata": {},
   "outputs": [],
   "source": [
    "x = df.drop(['outcome'],axis=1)\n",
    "y = df[['outcome']]"
   ]
  },
  {
   "cell_type": "code",
   "execution_count": 31,
   "id": "1dde9419",
   "metadata": {},
   "outputs": [
    {
     "data": {
      "text/html": [
       "<div>\n",
       "<style scoped>\n",
       "    .dataframe tbody tr th:only-of-type {\n",
       "        vertical-align: middle;\n",
       "    }\n",
       "\n",
       "    .dataframe tbody tr th {\n",
       "        vertical-align: top;\n",
       "    }\n",
       "\n",
       "    .dataframe thead th {\n",
       "        text-align: right;\n",
       "    }\n",
       "</style>\n",
       "<table border=\"1\" class=\"dataframe\">\n",
       "  <thead>\n",
       "    <tr style=\"text-align: right;\">\n",
       "      <th></th>\n",
       "      <th>LRRFIP1</th>\n",
       "      <th>THADA</th>\n",
       "      <th>RGS6</th>\n",
       "      <th>ZNF638</th>\n",
       "      <th>MMP23B</th>\n",
       "      <th>PLXNB1</th>\n",
       "      <th>RP3-377D14.1</th>\n",
       "      <th>USP34</th>\n",
       "      <th>THADA.1</th>\n",
       "      <th>CYorf15A</th>\n",
       "      <th>...</th>\n",
       "      <th>EHBP1</th>\n",
       "      <th>FOXO4</th>\n",
       "      <th>TRIM59</th>\n",
       "      <th>MUC4.1</th>\n",
       "      <th>MUC4.2</th>\n",
       "      <th>USP39</th>\n",
       "      <th>LRRFIP1.1</th>\n",
       "      <th>MMP23B.1</th>\n",
       "      <th>GRM8</th>\n",
       "      <th>TRIM59.1</th>\n",
       "    </tr>\n",
       "  </thead>\n",
       "  <tbody>\n",
       "    <tr>\n",
       "      <th>0</th>\n",
       "      <td>9.494352</td>\n",
       "      <td>2.973412</td>\n",
       "      <td>4.060297</td>\n",
       "      <td>3.327416</td>\n",
       "      <td>4.910209</td>\n",
       "      <td>-3.678679</td>\n",
       "      <td>6.033708</td>\n",
       "      <td>3.734166</td>\n",
       "      <td>2.973412</td>\n",
       "      <td>7.211260</td>\n",
       "      <td>...</td>\n",
       "      <td>8.361821</td>\n",
       "      <td>4.610789</td>\n",
       "      <td>6.233121</td>\n",
       "      <td>4.281915</td>\n",
       "      <td>4.281915</td>\n",
       "      <td>9.077699</td>\n",
       "      <td>11.352656</td>\n",
       "      <td>4.910209</td>\n",
       "      <td>1.937028</td>\n",
       "      <td>6.233121</td>\n",
       "    </tr>\n",
       "    <tr>\n",
       "      <th>1</th>\n",
       "      <td>9.652347</td>\n",
       "      <td>1.041723</td>\n",
       "      <td>4.048302</td>\n",
       "      <td>-1.711181</td>\n",
       "      <td>3.676303</td>\n",
       "      <td>-2.834622</td>\n",
       "      <td>6.142283</td>\n",
       "      <td>4.108245</td>\n",
       "      <td>1.041723</td>\n",
       "      <td>7.042854</td>\n",
       "      <td>...</td>\n",
       "      <td>8.522570</td>\n",
       "      <td>5.150122</td>\n",
       "      <td>6.384305</td>\n",
       "      <td>3.947593</td>\n",
       "      <td>3.947593</td>\n",
       "      <td>9.037315</td>\n",
       "      <td>11.339814</td>\n",
       "      <td>3.676303</td>\n",
       "      <td>3.893425</td>\n",
       "      <td>6.384305</td>\n",
       "    </tr>\n",
       "    <tr>\n",
       "      <th>2</th>\n",
       "      <td>10.032375</td>\n",
       "      <td>2.944126</td>\n",
       "      <td>4.073012</td>\n",
       "      <td>3.370234</td>\n",
       "      <td>4.816267</td>\n",
       "      <td>-3.444682</td>\n",
       "      <td>6.042527</td>\n",
       "      <td>4.534576</td>\n",
       "      <td>2.944126</td>\n",
       "      <td>6.876900</td>\n",
       "      <td>...</td>\n",
       "      <td>8.316922</td>\n",
       "      <td>5.235859</td>\n",
       "      <td>6.954674</td>\n",
       "      <td>-7.450973</td>\n",
       "      <td>-7.450973</td>\n",
       "      <td>9.412453</td>\n",
       "      <td>11.233254</td>\n",
       "      <td>4.816267</td>\n",
       "      <td>4.037966</td>\n",
       "      <td>6.954674</td>\n",
       "    </tr>\n",
       "    <tr>\n",
       "      <th>3</th>\n",
       "      <td>9.770127</td>\n",
       "      <td>2.484607</td>\n",
       "      <td>4.132808</td>\n",
       "      <td>3.346088</td>\n",
       "      <td>4.360065</td>\n",
       "      <td>-2.318873</td>\n",
       "      <td>6.029438</td>\n",
       "      <td>3.598812</td>\n",
       "      <td>2.484607</td>\n",
       "      <td>7.280534</td>\n",
       "      <td>...</td>\n",
       "      <td>8.023731</td>\n",
       "      <td>4.535613</td>\n",
       "      <td>6.557508</td>\n",
       "      <td>3.338574</td>\n",
       "      <td>3.338574</td>\n",
       "      <td>9.243624</td>\n",
       "      <td>11.281713</td>\n",
       "      <td>4.360065</td>\n",
       "      <td>3.634348</td>\n",
       "      <td>6.557508</td>\n",
       "    </tr>\n",
       "    <tr>\n",
       "      <th>4</th>\n",
       "      <td>9.684129</td>\n",
       "      <td>2.352003</td>\n",
       "      <td>4.006768</td>\n",
       "      <td>3.999665</td>\n",
       "      <td>4.097268</td>\n",
       "      <td>2.806521</td>\n",
       "      <td>6.013487</td>\n",
       "      <td>4.684030</td>\n",
       "      <td>2.352003</td>\n",
       "      <td>6.488243</td>\n",
       "      <td>...</td>\n",
       "      <td>8.275141</td>\n",
       "      <td>5.701094</td>\n",
       "      <td>6.594414</td>\n",
       "      <td>4.009281</td>\n",
       "      <td>4.009281</td>\n",
       "      <td>9.403549</td>\n",
       "      <td>11.217501</td>\n",
       "      <td>4.097268</td>\n",
       "      <td>3.822086</td>\n",
       "      <td>6.594414</td>\n",
       "    </tr>\n",
       "  </tbody>\n",
       "</table>\n",
       "<p>5 rows × 37 columns</p>\n",
       "</div>"
      ],
      "text/plain": [
       "     LRRFIP1     THADA      RGS6    ZNF638    MMP23B    PLXNB1  RP3-377D14.1  \\\n",
       "0   9.494352  2.973412  4.060297  3.327416  4.910209 -3.678679      6.033708   \n",
       "1   9.652347  1.041723  4.048302 -1.711181  3.676303 -2.834622      6.142283   \n",
       "2  10.032375  2.944126  4.073012  3.370234  4.816267 -3.444682      6.042527   \n",
       "3   9.770127  2.484607  4.132808  3.346088  4.360065 -2.318873      6.029438   \n",
       "4   9.684129  2.352003  4.006768  3.999665  4.097268  2.806521      6.013487   \n",
       "\n",
       "      USP34   THADA.1  CYorf15A  ...     EHBP1     FOXO4    TRIM59    MUC4.1  \\\n",
       "0  3.734166  2.973412  7.211260  ...  8.361821  4.610789  6.233121  4.281915   \n",
       "1  4.108245  1.041723  7.042854  ...  8.522570  5.150122  6.384305  3.947593   \n",
       "2  4.534576  2.944126  6.876900  ...  8.316922  5.235859  6.954674 -7.450973   \n",
       "3  3.598812  2.484607  7.280534  ...  8.023731  4.535613  6.557508  3.338574   \n",
       "4  4.684030  2.352003  6.488243  ...  8.275141  5.701094  6.594414  4.009281   \n",
       "\n",
       "     MUC4.2     USP39  LRRFIP1.1  MMP23B.1      GRM8  TRIM59.1  \n",
       "0  4.281915  9.077699  11.352656  4.910209  1.937028  6.233121  \n",
       "1  3.947593  9.037315  11.339814  3.676303  3.893425  6.384305  \n",
       "2 -7.450973  9.412453  11.233254  4.816267  4.037966  6.954674  \n",
       "3  3.338574  9.243624  11.281713  4.360065  3.634348  6.557508  \n",
       "4  4.009281  9.403549  11.217501  4.097268  3.822086  6.594414  \n",
       "\n",
       "[5 rows x 37 columns]"
      ]
     },
     "execution_count": 31,
     "metadata": {},
     "output_type": "execute_result"
    }
   ],
   "source": [
    "x.head()"
   ]
  },
  {
   "cell_type": "code",
   "execution_count": 32,
   "id": "47b63cfe",
   "metadata": {},
   "outputs": [
    {
     "data": {
      "text/html": [
       "<div>\n",
       "<style scoped>\n",
       "    .dataframe tbody tr th:only-of-type {\n",
       "        vertical-align: middle;\n",
       "    }\n",
       "\n",
       "    .dataframe tbody tr th {\n",
       "        vertical-align: top;\n",
       "    }\n",
       "\n",
       "    .dataframe thead th {\n",
       "        text-align: right;\n",
       "    }\n",
       "</style>\n",
       "<table border=\"1\" class=\"dataframe\">\n",
       "  <thead>\n",
       "    <tr style=\"text-align: right;\">\n",
       "      <th></th>\n",
       "      <th>outcome</th>\n",
       "    </tr>\n",
       "  </thead>\n",
       "  <tbody>\n",
       "    <tr>\n",
       "      <th>0</th>\n",
       "      <td>0</td>\n",
       "    </tr>\n",
       "    <tr>\n",
       "      <th>1</th>\n",
       "      <td>0</td>\n",
       "    </tr>\n",
       "    <tr>\n",
       "      <th>2</th>\n",
       "      <td>0</td>\n",
       "    </tr>\n",
       "    <tr>\n",
       "      <th>3</th>\n",
       "      <td>0</td>\n",
       "    </tr>\n",
       "    <tr>\n",
       "      <th>4</th>\n",
       "      <td>0</td>\n",
       "    </tr>\n",
       "  </tbody>\n",
       "</table>\n",
       "</div>"
      ],
      "text/plain": [
       "   outcome\n",
       "0        0\n",
       "1        0\n",
       "2        0\n",
       "3        0\n",
       "4        0"
      ]
     },
     "execution_count": 32,
     "metadata": {},
     "output_type": "execute_result"
    }
   ],
   "source": [
    "y.head()"
   ]
  },
  {
   "cell_type": "markdown",
   "id": "b1c4faed",
   "metadata": {},
   "source": [
    "# Splitting the data"
   ]
  },
  {
   "cell_type": "code",
   "execution_count": 33,
   "id": "a142d2af",
   "metadata": {},
   "outputs": [],
   "source": [
    "from sklearn.model_selection import train_test_split\n",
    "x_train,x_test,y_train,y_test = train_test_split(x,y,test_size=0.3,random_state=2)"
   ]
  },
  {
   "cell_type": "code",
   "execution_count": 34,
   "id": "37385f99",
   "metadata": {},
   "outputs": [
    {
     "data": {
      "text/plain": [
       "(31, 37)"
      ]
     },
     "execution_count": 34,
     "metadata": {},
     "output_type": "execute_result"
    }
   ],
   "source": [
    "x_train.shape"
   ]
  },
  {
   "cell_type": "code",
   "execution_count": 35,
   "id": "8d4ddc28",
   "metadata": {},
   "outputs": [
    {
     "data": {
      "text/plain": [
       "(14, 37)"
      ]
     },
     "execution_count": 35,
     "metadata": {},
     "output_type": "execute_result"
    }
   ],
   "source": [
    "x_test.shape"
   ]
  },
  {
   "cell_type": "markdown",
   "id": "a7487cbf",
   "metadata": {},
   "source": [
    "# Feature selection"
   ]
  },
  {
   "cell_type": "markdown",
   "id": "3fd04ccd",
   "metadata": {},
   "source": [
    "## Pearson correlation"
   ]
  },
  {
   "cell_type": "code",
   "execution_count": 36,
   "id": "4356a313",
   "metadata": {},
   "outputs": [
    {
     "data": {
      "text/plain": [
       "<bound method DataFrame.corr of      LRRFIP1     THADA      RGS6    ZNF638     MMP23B    PLXNB1  RP3-377D14.1  \\\n",
       "42  4.387066 -2.549789 -0.335785  2.341129  11.556823  2.443014     12.108380   \n",
       "30  4.221886 -4.110894  0.832728  1.106573  11.446033  2.840250     12.256924   \n",
       "32  3.959133 -3.707614  1.729942 -1.679992  11.551494  1.795559     12.169826   \n",
       "1   9.652347  1.041723  4.048302 -1.711181   3.676303 -2.834622      6.142283   \n",
       "23  3.586044 -4.030581  2.864159 -2.647379  11.461797  2.845965     12.736761   \n",
       "25  3.586343 -2.590903 -1.593394 -1.674630  11.320310  2.450849     12.011121   \n",
       "27  3.417708 -5.783022 -3.208435 -4.253024  11.747987  3.262146     12.043913   \n",
       "19  4.885887 -3.924116  1.075940 -2.075750  11.608237  1.733114     12.703477   \n",
       "35  5.222698 -3.621023 -2.629663 -2.002624  11.364012  3.734591     11.865007   \n",
       "10  9.868436  3.564868  3.452636  3.991394   3.995517 -3.004276      5.567812   \n",
       "4   9.684129  2.352003  4.006768  3.999665   4.097268  2.806521      6.013487   \n",
       "6   8.806609 -5.212862  3.764755  2.226077   5.093653 -4.171310      5.766543   \n",
       "3   9.770127  2.484607  4.132808  3.346088   4.360065 -2.318873      6.029438   \n",
       "38  4.348057 -2.649288  1.915446  1.500498  11.756938  3.487319     12.134439   \n",
       "5   9.653219 -2.203626  3.959231  3.138848   4.198562  2.119956      5.720065   \n",
       "33  4.211295 -3.290885 -2.575628 -0.530667  12.055950  3.587388     12.404337   \n",
       "28  2.964295 -5.411480 -2.870244 -4.054147  12.134091  3.334788     11.929147   \n",
       "20  4.351870 -4.512111 -1.931837 -2.334712  11.461507  2.890729     12.034280   \n",
       "26  3.531706 -3.350910 -2.472362 -2.333913  11.818210  2.945011     12.103694   \n",
       "36  4.176852 -2.510032  2.011805  2.506324  11.366953  3.745953     11.974929   \n",
       "21  4.432044 -4.541204  2.317176 -3.236765  11.581235  3.451591     12.267478   \n",
       "39  4.791545 -2.970771 -2.503877  2.548868  11.325058  3.039437     11.971375   \n",
       "31  4.083856 -4.572420 -0.431344 -2.680786  11.246887  1.520319     12.150527   \n",
       "34  3.446291 -3.664145  1.529023 -2.862925  11.407055  3.571116     11.824614   \n",
       "7   9.338185  3.217988  3.921495  3.990827   4.760709  3.441071      5.963626   \n",
       "11  8.400369  0.291203  3.882330 -1.453431   4.964500 -2.902564      6.000217   \n",
       "18  4.456713 -3.323030 -0.871927 -2.385642  11.730755  3.449857     12.240320   \n",
       "22  4.422241 -3.911891 -2.502187  3.831805  11.563134  2.847590     11.950022   \n",
       "8   8.838490  1.835926  3.674818  3.150779   4.786175 -3.175421      5.765023   \n",
       "15  3.513129 -3.718196  1.757240 -2.404053  11.178750  3.856146     12.023955   \n",
       "40  3.498851 -6.129199 -0.677810 -4.765731  11.528347  3.494543     12.032894   \n",
       "\n",
       "       USP34   THADA.1   CYorf15A  ...     EHBP1      FOXO4     TRIM59  \\\n",
       "42  4.307245 -2.549789  13.661096  ...  4.234796  11.517695  11.800724   \n",
       "30  4.007550 -4.110894  13.480145  ...  3.996439  11.787929  11.204316   \n",
       "32  3.448452 -3.707614  13.990410  ...  4.333273  11.678069  11.582537   \n",
       "1   4.108245  1.041723   7.042854  ...  8.522570   5.150122   6.384305   \n",
       "23  1.654435 -4.030581  13.652092  ...  3.849332  11.663885  11.433930   \n",
       "25  4.237262 -2.590903  13.556825  ...  3.952457  11.203111  11.784882   \n",
       "27 -8.581332 -5.783022  13.159327  ...  3.866714  11.210090  10.983615   \n",
       "19 -5.805618 -3.924116  13.538157  ...  3.610046  11.521096  11.994653   \n",
       "35 -4.231707 -3.621023  12.908138  ...  4.174954  11.499757  12.026514   \n",
       "10  4.507389  3.564868   6.552648  ...  8.767765   4.184826   6.630549   \n",
       "4   4.684030  2.352003   6.488243  ...  8.275141   5.701094   6.594414   \n",
       "6   4.049860 -5.212023   6.957595  ...  6.851598   5.478524   6.037251   \n",
       "3   3.598812  2.484607   7.280534  ...  8.023731   4.535613   6.557508   \n",
       "38  3.518162 -2.649288  13.681530  ...  4.335787  11.448044  11.831600   \n",
       "5   4.315540 -2.203626   6.811078  ...  8.094614   5.540758   6.134639   \n",
       "33 -5.942611 -3.290885  13.763303  ...  3.550744  11.411075  12.144368   \n",
       "28 -9.799815 -5.411480  13.268979  ...  3.836861  11.397584  11.535260   \n",
       "20  2.445799 -4.512111  13.563320  ...  4.108956  11.801739  11.990947   \n",
       "26  3.400174 -3.350910  13.274960  ...  3.864126  11.452573  11.456886   \n",
       "36 -3.981360 -2.510032  13.677306  ...  4.291931  11.389633  11.920060   \n",
       "21 -6.861935 -4.541204  13.681645  ...  3.790180  11.898438  11.630021   \n",
       "39 -3.734825 -2.970771  13.772967  ...  4.462362  11.192605  11.377544   \n",
       "31 -5.206187 -4.572420  12.950683  ...  3.829021  11.341302  11.791977   \n",
       "34  0.998782 -3.664145  13.631089  ...  4.685424  11.412464  11.081393   \n",
       "7   4.398572  3.217988   7.073144  ...  8.197657   5.341224   6.014592   \n",
       "11  3.827527  0.291203   6.747254  ...  8.057912   5.129400   6.593576   \n",
       "18 -4.613078 -3.323030  13.187021  ...  3.908505  11.334552  11.382456   \n",
       "22 -3.745224 -3.911891  13.617692  ...  4.165384  11.500813  11.890106   \n",
       "8   4.245866  1.835926   6.764988  ...  7.286378   4.139085   6.806544   \n",
       "15 -6.280511 -3.718196  13.278298  ...  4.168080  11.542312  11.425994   \n",
       "40 -9.394716 -6.129199  12.937869  ...  3.579843  11.579703  11.488346   \n",
       "\n",
       "       MUC4.1     MUC4.2     USP39  LRRFIP1.1   MMP23B.1      GRM8   TRIM59.1  \n",
       "42  -7.496862  -7.496862  4.117304   4.596425  11.556823 -3.146748  11.800724  \n",
       "30   2.855514   2.855514  4.138668   4.506542  11.446033  0.972003  11.204316  \n",
       "32   3.088543   3.088543  3.872818   4.646910  11.551494  1.859429  11.582537  \n",
       "1    3.947593   3.947593  9.037315  11.339814   3.676303  3.893425   6.384305  \n",
       "23   0.498037   0.498037  3.942834   4.513293  11.461797  2.455753  11.433930  \n",
       "25  -7.369860  -7.369860  4.081834   4.203701  11.320310 -2.917247  11.784882  \n",
       "27 -10.270150 -10.270150  4.186793   4.392073  11.747987 -0.896016  10.983615  \n",
       "19   5.105906   5.105906  3.955555   4.782651  11.608237 -0.172333  11.994653  \n",
       "35  -9.735484  -9.735484  4.404532   4.597256  11.364012  1.118679  12.026514  \n",
       "10   3.751630   3.751630  9.523659  11.372374   3.995517  3.648554   6.630549  \n",
       "4    4.009281   4.009281  9.403549  11.217501   4.097268  3.822086   6.594414  \n",
       "6    3.004280   3.004280  8.883086  11.222473   5.093653  3.617272   6.037251  \n",
       "3    3.338574   3.338574  9.243624  11.281713   4.360065  3.634348   6.557508  \n",
       "38  -8.033903  -8.033903  4.082685   4.336456  11.756938 -0.332707  11.831600  \n",
       "5    3.487626   3.487626  9.058520  11.079007   4.198562  3.663504   6.134639  \n",
       "33   4.268288   4.268288  4.109329   4.706489  12.055950 -2.766282  12.144368  \n",
       "28  -1.079552  -1.079552  3.573257   4.974773  12.134091 -4.323406  11.535260  \n",
       "20   1.808683   1.808683  4.112677   4.472691  11.461507 -2.968838  11.990947  \n",
       "26  -6.572588  -6.572588  4.104661   4.419551  11.818210  1.180483  11.456886  \n",
       "36  -6.745193  -6.745193  4.201215   4.621742  11.366953 -2.649652  11.920060  \n",
       "21  -5.448520  -5.448520  3.899408   4.490120  11.581235 -1.886404  11.630021  \n",
       "39  -5.741164  -5.741164  4.168673   4.510200  11.325058  0.126735  11.377544  \n",
       "31   2.376417   2.376417  4.007549   4.525509  11.246887  0.506879  11.791977  \n",
       "34  -8.688155  -8.688155  4.212762   4.683043  11.407055 -0.446293  11.081393  \n",
       "7   -1.399429  -1.399429  9.358764  11.420490   4.760709  3.889251   6.014592  \n",
       "11  -8.058402  -8.058402  8.856048  11.138791   4.964500  4.107710   6.593576  \n",
       "18  -6.579976  -6.579976  4.187641   4.591122  11.730755 -0.983430  11.382456  \n",
       "22   3.825754   3.825754  4.124717   4.696216  11.563134 -2.395118  11.890106  \n",
       "8   -7.395590  -7.395590  9.162277  10.857111   4.786175  3.745679   6.806544  \n",
       "15  -9.136356  -9.136356  4.101441   4.680524  11.178750 -3.594257  11.425994  \n",
       "40   3.979740   3.979740  3.842416   4.980545  11.528347  1.525173  11.488346  \n",
       "\n",
       "[31 rows x 37 columns]>"
      ]
     },
     "execution_count": 36,
     "metadata": {},
     "output_type": "execute_result"
    }
   ],
   "source": [
    "x_train.corr"
   ]
  },
  {
   "cell_type": "code",
   "execution_count": 38,
   "id": "04eb5253",
   "metadata": {},
   "outputs": [],
   "source": [
    "def correlation(df, threshold):\n",
    "    col_corr = set()\n",
    "    corr_matrix = df.corr()\n",
    "    for i in range(len(corr_matrix.columns)):\n",
    "        for j in range(i):\n",
    "            if abs(corr_matrix.iloc[i,j]) > threshold:\n",
    "                colname = corr_matrix.columns[i]\n",
    "                col_corr.add(colname)\n",
    "    return col_corr"
   ]
  },
  {
   "cell_type": "code",
   "execution_count": 39,
   "id": "3f27418f",
   "metadata": {},
   "outputs": [
    {
     "data": {
      "text/plain": [
       "25"
      ]
     },
     "execution_count": 39,
     "metadata": {},
     "output_type": "execute_result"
    }
   ],
   "source": [
    "corr_features = correlation(x_train,0.9)\n",
    "len(set(corr_features))"
   ]
  },
  {
   "cell_type": "code",
   "execution_count": 40,
   "id": "faef972d",
   "metadata": {},
   "outputs": [
    {
     "data": {
      "text/plain": [
       "{'AC069287.3',\n",
       " 'AC092299.1',\n",
       " 'ARMC10',\n",
       " 'CHRNA6',\n",
       " 'CYorf15A',\n",
       " 'EHBP1',\n",
       " 'FAM123C',\n",
       " 'FAM123C.1',\n",
       " 'FAM18B2',\n",
       " 'FOXO4',\n",
       " 'LL22NC03-80A10.2',\n",
       " 'LRRFIP1.1',\n",
       " 'MMP23B',\n",
       " 'MMP23B.1',\n",
       " 'MTIF2',\n",
       " 'MUC4.2',\n",
       " 'RP11-339I24.1',\n",
       " 'RP3-377D14.1',\n",
       " 'RPL21',\n",
       " 'SR140',\n",
       " 'THADA.1',\n",
       " 'TRIM59',\n",
       " 'TRIM59.1',\n",
       " 'USP39',\n",
       " 'ZKSCAN4'}"
      ]
     },
     "execution_count": 40,
     "metadata": {},
     "output_type": "execute_result"
    }
   ],
   "source": [
    "corr_features"
   ]
  },
  {
   "cell_type": "code",
   "execution_count": 41,
   "id": "6d702ba4",
   "metadata": {},
   "outputs": [
    {
     "data": {
      "text/html": [
       "<div>\n",
       "<style scoped>\n",
       "    .dataframe tbody tr th:only-of-type {\n",
       "        vertical-align: middle;\n",
       "    }\n",
       "\n",
       "    .dataframe tbody tr th {\n",
       "        vertical-align: top;\n",
       "    }\n",
       "\n",
       "    .dataframe thead th {\n",
       "        text-align: right;\n",
       "    }\n",
       "</style>\n",
       "<table border=\"1\" class=\"dataframe\">\n",
       "  <thead>\n",
       "    <tr style=\"text-align: right;\">\n",
       "      <th></th>\n",
       "      <th>LRRFIP1</th>\n",
       "      <th>THADA</th>\n",
       "      <th>RGS6</th>\n",
       "      <th>ZNF638</th>\n",
       "      <th>PLXNB1</th>\n",
       "      <th>USP34</th>\n",
       "      <th>THSD7B</th>\n",
       "      <th>THADA.2</th>\n",
       "      <th>USP34.1</th>\n",
       "      <th>MUC4</th>\n",
       "      <th>MUC4.1</th>\n",
       "      <th>GRM8</th>\n",
       "    </tr>\n",
       "  </thead>\n",
       "  <tbody>\n",
       "    <tr>\n",
       "      <th>42</th>\n",
       "      <td>4.387066</td>\n",
       "      <td>-2.549789</td>\n",
       "      <td>-0.335785</td>\n",
       "      <td>2.341129</td>\n",
       "      <td>2.443014</td>\n",
       "      <td>4.307245</td>\n",
       "      <td>4.442345</td>\n",
       "      <td>-2.510189</td>\n",
       "      <td>3.301537</td>\n",
       "      <td>-7.475838</td>\n",
       "      <td>-7.496862</td>\n",
       "      <td>-3.146748</td>\n",
       "    </tr>\n",
       "    <tr>\n",
       "      <th>30</th>\n",
       "      <td>4.221886</td>\n",
       "      <td>-4.110894</td>\n",
       "      <td>0.832728</td>\n",
       "      <td>1.106573</td>\n",
       "      <td>2.840250</td>\n",
       "      <td>4.007550</td>\n",
       "      <td>4.465275</td>\n",
       "      <td>-4.052586</td>\n",
       "      <td>-6.076564</td>\n",
       "      <td>-6.552048</td>\n",
       "      <td>2.855514</td>\n",
       "      <td>0.972003</td>\n",
       "    </tr>\n",
       "    <tr>\n",
       "      <th>32</th>\n",
       "      <td>3.959133</td>\n",
       "      <td>-3.707614</td>\n",
       "      <td>1.729942</td>\n",
       "      <td>-1.679992</td>\n",
       "      <td>1.795559</td>\n",
       "      <td>3.448452</td>\n",
       "      <td>0.331875</td>\n",
       "      <td>-3.658977</td>\n",
       "      <td>3.680335</td>\n",
       "      <td>-5.214754</td>\n",
       "      <td>3.088543</td>\n",
       "      <td>1.859429</td>\n",
       "    </tr>\n",
       "    <tr>\n",
       "      <th>1</th>\n",
       "      <td>9.652347</td>\n",
       "      <td>1.041723</td>\n",
       "      <td>4.048302</td>\n",
       "      <td>-1.711181</td>\n",
       "      <td>-2.834622</td>\n",
       "      <td>4.108245</td>\n",
       "      <td>2.594520</td>\n",
       "      <td>3.262082</td>\n",
       "      <td>4.328063</td>\n",
       "      <td>3.516237</td>\n",
       "      <td>3.947593</td>\n",
       "      <td>3.893425</td>\n",
       "    </tr>\n",
       "    <tr>\n",
       "      <th>23</th>\n",
       "      <td>3.586044</td>\n",
       "      <td>-4.030581</td>\n",
       "      <td>2.864159</td>\n",
       "      <td>-2.647379</td>\n",
       "      <td>2.845965</td>\n",
       "      <td>1.654435</td>\n",
       "      <td>4.251854</td>\n",
       "      <td>-3.967002</td>\n",
       "      <td>1.935608</td>\n",
       "      <td>1.934495</td>\n",
       "      <td>0.498037</td>\n",
       "      <td>2.455753</td>\n",
       "    </tr>\n",
       "    <tr>\n",
       "      <th>25</th>\n",
       "      <td>3.586343</td>\n",
       "      <td>-2.590903</td>\n",
       "      <td>-1.593394</td>\n",
       "      <td>-1.674630</td>\n",
       "      <td>2.450849</td>\n",
       "      <td>4.237262</td>\n",
       "      <td>-3.139817</td>\n",
       "      <td>-2.551092</td>\n",
       "      <td>2.481772</td>\n",
       "      <td>-4.105153</td>\n",
       "      <td>-7.369860</td>\n",
       "      <td>-2.917247</td>\n",
       "    </tr>\n",
       "    <tr>\n",
       "      <th>27</th>\n",
       "      <td>3.417708</td>\n",
       "      <td>-5.783022</td>\n",
       "      <td>-3.208435</td>\n",
       "      <td>-4.253024</td>\n",
       "      <td>3.262146</td>\n",
       "      <td>-8.581332</td>\n",
       "      <td>-4.718669</td>\n",
       "      <td>-5.711027</td>\n",
       "      <td>-8.972887</td>\n",
       "      <td>-10.242843</td>\n",
       "      <td>-10.270150</td>\n",
       "      <td>-0.896016</td>\n",
       "    </tr>\n",
       "    <tr>\n",
       "      <th>19</th>\n",
       "      <td>4.885887</td>\n",
       "      <td>-3.924116</td>\n",
       "      <td>1.075940</td>\n",
       "      <td>-2.075750</td>\n",
       "      <td>1.733114</td>\n",
       "      <td>-5.805618</td>\n",
       "      <td>4.027299</td>\n",
       "      <td>-3.859340</td>\n",
       "      <td>3.937799</td>\n",
       "      <td>-3.591492</td>\n",
       "      <td>5.105906</td>\n",
       "      <td>-0.172333</td>\n",
       "    </tr>\n",
       "    <tr>\n",
       "      <th>35</th>\n",
       "      <td>5.222698</td>\n",
       "      <td>-3.621023</td>\n",
       "      <td>-2.629663</td>\n",
       "      <td>-2.002624</td>\n",
       "      <td>3.734591</td>\n",
       "      <td>-4.231707</td>\n",
       "      <td>-4.362481</td>\n",
       "      <td>2.707120</td>\n",
       "      <td>4.080518</td>\n",
       "      <td>-9.712645</td>\n",
       "      <td>-9.735484</td>\n",
       "      <td>1.118679</td>\n",
       "    </tr>\n",
       "    <tr>\n",
       "      <th>10</th>\n",
       "      <td>9.868436</td>\n",
       "      <td>3.564868</td>\n",
       "      <td>3.452636</td>\n",
       "      <td>3.991394</td>\n",
       "      <td>-3.004276</td>\n",
       "      <td>4.507389</td>\n",
       "      <td>4.507417</td>\n",
       "      <td>1.059062</td>\n",
       "      <td>5.447287</td>\n",
       "      <td>2.021562</td>\n",
       "      <td>3.751630</td>\n",
       "      <td>3.648554</td>\n",
       "    </tr>\n",
       "    <tr>\n",
       "      <th>4</th>\n",
       "      <td>9.684129</td>\n",
       "      <td>2.352003</td>\n",
       "      <td>4.006768</td>\n",
       "      <td>3.999665</td>\n",
       "      <td>2.806521</td>\n",
       "      <td>4.684030</td>\n",
       "      <td>3.395910</td>\n",
       "      <td>3.371131</td>\n",
       "      <td>4.232402</td>\n",
       "      <td>3.049082</td>\n",
       "      <td>4.009281</td>\n",
       "      <td>3.822086</td>\n",
       "    </tr>\n",
       "    <tr>\n",
       "      <th>6</th>\n",
       "      <td>8.806609</td>\n",
       "      <td>-5.212862</td>\n",
       "      <td>3.764755</td>\n",
       "      <td>2.226077</td>\n",
       "      <td>-4.171310</td>\n",
       "      <td>4.049860</td>\n",
       "      <td>2.932929</td>\n",
       "      <td>3.497425</td>\n",
       "      <td>-5.689052</td>\n",
       "      <td>-7.656588</td>\n",
       "      <td>3.004280</td>\n",
       "      <td>3.617272</td>\n",
       "    </tr>\n",
       "    <tr>\n",
       "      <th>3</th>\n",
       "      <td>9.770127</td>\n",
       "      <td>2.484607</td>\n",
       "      <td>4.132808</td>\n",
       "      <td>3.346088</td>\n",
       "      <td>-2.318873</td>\n",
       "      <td>3.598812</td>\n",
       "      <td>3.485198</td>\n",
       "      <td>3.131198</td>\n",
       "      <td>4.846430</td>\n",
       "      <td>1.075238</td>\n",
       "      <td>3.338574</td>\n",
       "      <td>3.634348</td>\n",
       "    </tr>\n",
       "    <tr>\n",
       "      <th>38</th>\n",
       "      <td>4.348057</td>\n",
       "      <td>-2.649288</td>\n",
       "      <td>1.915446</td>\n",
       "      <td>1.500498</td>\n",
       "      <td>3.487319</td>\n",
       "      <td>3.518162</td>\n",
       "      <td>-3.100172</td>\n",
       "      <td>-2.609340</td>\n",
       "      <td>4.350981</td>\n",
       "      <td>-8.018729</td>\n",
       "      <td>-8.033903</td>\n",
       "      <td>-0.332707</td>\n",
       "    </tr>\n",
       "    <tr>\n",
       "      <th>5</th>\n",
       "      <td>9.653219</td>\n",
       "      <td>-2.203626</td>\n",
       "      <td>3.959231</td>\n",
       "      <td>3.138848</td>\n",
       "      <td>2.119956</td>\n",
       "      <td>4.315540</td>\n",
       "      <td>3.865281</td>\n",
       "      <td>3.010219</td>\n",
       "      <td>3.940608</td>\n",
       "      <td>2.976749</td>\n",
       "      <td>3.487626</td>\n",
       "      <td>3.663504</td>\n",
       "    </tr>\n",
       "    <tr>\n",
       "      <th>33</th>\n",
       "      <td>4.211295</td>\n",
       "      <td>-3.290885</td>\n",
       "      <td>-2.575628</td>\n",
       "      <td>-0.530667</td>\n",
       "      <td>3.587388</td>\n",
       "      <td>-5.942611</td>\n",
       "      <td>-3.307695</td>\n",
       "      <td>3.161384</td>\n",
       "      <td>-1.340686</td>\n",
       "      <td>-4.390052</td>\n",
       "      <td>4.268288</td>\n",
       "      <td>-2.766282</td>\n",
       "    </tr>\n",
       "    <tr>\n",
       "      <th>28</th>\n",
       "      <td>2.964295</td>\n",
       "      <td>-5.411480</td>\n",
       "      <td>-2.870244</td>\n",
       "      <td>-4.054147</td>\n",
       "      <td>3.334788</td>\n",
       "      <td>-9.799815</td>\n",
       "      <td>1.161304</td>\n",
       "      <td>-5.327022</td>\n",
       "      <td>-10.242253</td>\n",
       "      <td>2.520808</td>\n",
       "      <td>-1.079552</td>\n",
       "      <td>-4.323406</td>\n",
       "    </tr>\n",
       "    <tr>\n",
       "      <th>20</th>\n",
       "      <td>4.351870</td>\n",
       "      <td>-4.512111</td>\n",
       "      <td>-1.931837</td>\n",
       "      <td>-2.334712</td>\n",
       "      <td>2.890729</td>\n",
       "      <td>2.445799</td>\n",
       "      <td>-3.614376</td>\n",
       "      <td>1.658743</td>\n",
       "      <td>1.684757</td>\n",
       "      <td>-3.357164</td>\n",
       "      <td>1.808683</td>\n",
       "      <td>-2.968838</td>\n",
       "    </tr>\n",
       "    <tr>\n",
       "      <th>26</th>\n",
       "      <td>3.531706</td>\n",
       "      <td>-3.350910</td>\n",
       "      <td>-2.472362</td>\n",
       "      <td>-2.333913</td>\n",
       "      <td>2.945011</td>\n",
       "      <td>3.400174</td>\n",
       "      <td>-3.706674</td>\n",
       "      <td>-3.300662</td>\n",
       "      <td>1.906380</td>\n",
       "      <td>3.287082</td>\n",
       "      <td>-6.572588</td>\n",
       "      <td>1.180483</td>\n",
       "    </tr>\n",
       "    <tr>\n",
       "      <th>36</th>\n",
       "      <td>4.176852</td>\n",
       "      <td>-2.510032</td>\n",
       "      <td>2.011805</td>\n",
       "      <td>2.506324</td>\n",
       "      <td>3.745953</td>\n",
       "      <td>-3.981360</td>\n",
       "      <td>-3.778552</td>\n",
       "      <td>1.166507</td>\n",
       "      <td>3.220113</td>\n",
       "      <td>-6.719239</td>\n",
       "      <td>-6.745193</td>\n",
       "      <td>-2.649652</td>\n",
       "    </tr>\n",
       "    <tr>\n",
       "      <th>21</th>\n",
       "      <td>4.432044</td>\n",
       "      <td>-4.541204</td>\n",
       "      <td>2.317176</td>\n",
       "      <td>-3.236765</td>\n",
       "      <td>3.451591</td>\n",
       "      <td>-6.861935</td>\n",
       "      <td>0.445619</td>\n",
       "      <td>-4.485966</td>\n",
       "      <td>-7.177771</td>\n",
       "      <td>-5.424038</td>\n",
       "      <td>-5.448520</td>\n",
       "      <td>-1.886404</td>\n",
       "    </tr>\n",
       "    <tr>\n",
       "      <th>39</th>\n",
       "      <td>4.791545</td>\n",
       "      <td>-2.970771</td>\n",
       "      <td>-2.503877</td>\n",
       "      <td>2.548868</td>\n",
       "      <td>3.039437</td>\n",
       "      <td>-3.734825</td>\n",
       "      <td>2.845656</td>\n",
       "      <td>1.828294</td>\n",
       "      <td>4.686190</td>\n",
       "      <td>4.199726</td>\n",
       "      <td>-5.741164</td>\n",
       "      <td>0.126735</td>\n",
       "    </tr>\n",
       "    <tr>\n",
       "      <th>31</th>\n",
       "      <td>4.083856</td>\n",
       "      <td>-4.572420</td>\n",
       "      <td>-0.431344</td>\n",
       "      <td>-2.680786</td>\n",
       "      <td>1.520319</td>\n",
       "      <td>-5.206187</td>\n",
       "      <td>-3.715304</td>\n",
       "      <td>-4.509871</td>\n",
       "      <td>3.144927</td>\n",
       "      <td>2.337044</td>\n",
       "      <td>2.376417</td>\n",
       "      <td>0.506879</td>\n",
       "    </tr>\n",
       "    <tr>\n",
       "      <th>34</th>\n",
       "      <td>3.446291</td>\n",
       "      <td>-3.664145</td>\n",
       "      <td>1.529023</td>\n",
       "      <td>-2.862925</td>\n",
       "      <td>3.571116</td>\n",
       "      <td>0.998782</td>\n",
       "      <td>3.129214</td>\n",
       "      <td>-3.602986</td>\n",
       "      <td>-6.878815</td>\n",
       "      <td>2.663138</td>\n",
       "      <td>-8.688155</td>\n",
       "      <td>-0.446293</td>\n",
       "    </tr>\n",
       "    <tr>\n",
       "      <th>7</th>\n",
       "      <td>9.338185</td>\n",
       "      <td>3.217988</td>\n",
       "      <td>3.921495</td>\n",
       "      <td>3.990827</td>\n",
       "      <td>3.441071</td>\n",
       "      <td>4.398572</td>\n",
       "      <td>3.322895</td>\n",
       "      <td>2.891394</td>\n",
       "      <td>4.486166</td>\n",
       "      <td>0.523162</td>\n",
       "      <td>-1.399429</td>\n",
       "      <td>3.889251</td>\n",
       "    </tr>\n",
       "    <tr>\n",
       "      <th>11</th>\n",
       "      <td>8.400369</td>\n",
       "      <td>0.291203</td>\n",
       "      <td>3.882330</td>\n",
       "      <td>-1.453431</td>\n",
       "      <td>-2.902564</td>\n",
       "      <td>3.827527</td>\n",
       "      <td>2.652005</td>\n",
       "      <td>2.416357</td>\n",
       "      <td>3.466171</td>\n",
       "      <td>-8.029123</td>\n",
       "      <td>-8.058402</td>\n",
       "      <td>4.107710</td>\n",
       "    </tr>\n",
       "    <tr>\n",
       "      <th>18</th>\n",
       "      <td>4.456713</td>\n",
       "      <td>-3.323030</td>\n",
       "      <td>-0.871927</td>\n",
       "      <td>-2.385642</td>\n",
       "      <td>3.449857</td>\n",
       "      <td>-4.613078</td>\n",
       "      <td>-3.692973</td>\n",
       "      <td>-2.639613</td>\n",
       "      <td>3.250468</td>\n",
       "      <td>1.962857</td>\n",
       "      <td>-6.579976</td>\n",
       "      <td>-0.983430</td>\n",
       "    </tr>\n",
       "    <tr>\n",
       "      <th>22</th>\n",
       "      <td>4.422241</td>\n",
       "      <td>-3.911891</td>\n",
       "      <td>-2.502187</td>\n",
       "      <td>3.831805</td>\n",
       "      <td>2.847590</td>\n",
       "      <td>-3.745224</td>\n",
       "      <td>-4.015390</td>\n",
       "      <td>-3.856876</td>\n",
       "      <td>4.616849</td>\n",
       "      <td>-5.801312</td>\n",
       "      <td>3.825754</td>\n",
       "      <td>-2.395118</td>\n",
       "    </tr>\n",
       "    <tr>\n",
       "      <th>8</th>\n",
       "      <td>8.838490</td>\n",
       "      <td>1.835926</td>\n",
       "      <td>3.674818</td>\n",
       "      <td>3.150779</td>\n",
       "      <td>-3.175421</td>\n",
       "      <td>4.245866</td>\n",
       "      <td>2.963591</td>\n",
       "      <td>2.305933</td>\n",
       "      <td>2.656894</td>\n",
       "      <td>3.363008</td>\n",
       "      <td>-7.395590</td>\n",
       "      <td>3.745679</td>\n",
       "    </tr>\n",
       "    <tr>\n",
       "      <th>15</th>\n",
       "      <td>3.513129</td>\n",
       "      <td>-3.718196</td>\n",
       "      <td>1.757240</td>\n",
       "      <td>-2.404053</td>\n",
       "      <td>3.856146</td>\n",
       "      <td>-6.280511</td>\n",
       "      <td>-3.749209</td>\n",
       "      <td>-3.654659</td>\n",
       "      <td>-6.572729</td>\n",
       "      <td>-9.115974</td>\n",
       "      <td>-9.136356</td>\n",
       "      <td>-3.594257</td>\n",
       "    </tr>\n",
       "    <tr>\n",
       "      <th>40</th>\n",
       "      <td>3.498851</td>\n",
       "      <td>-6.129199</td>\n",
       "      <td>-0.677810</td>\n",
       "      <td>-4.765731</td>\n",
       "      <td>3.494543</td>\n",
       "      <td>-9.394716</td>\n",
       "      <td>4.282662</td>\n",
       "      <td>-4.091081</td>\n",
       "      <td>1.966941</td>\n",
       "      <td>-8.118631</td>\n",
       "      <td>3.979740</td>\n",
       "      <td>1.525173</td>\n",
       "    </tr>\n",
       "  </tbody>\n",
       "</table>\n",
       "</div>"
      ],
      "text/plain": [
       "     LRRFIP1     THADA      RGS6    ZNF638    PLXNB1     USP34    THSD7B  \\\n",
       "42  4.387066 -2.549789 -0.335785  2.341129  2.443014  4.307245  4.442345   \n",
       "30  4.221886 -4.110894  0.832728  1.106573  2.840250  4.007550  4.465275   \n",
       "32  3.959133 -3.707614  1.729942 -1.679992  1.795559  3.448452  0.331875   \n",
       "1   9.652347  1.041723  4.048302 -1.711181 -2.834622  4.108245  2.594520   \n",
       "23  3.586044 -4.030581  2.864159 -2.647379  2.845965  1.654435  4.251854   \n",
       "25  3.586343 -2.590903 -1.593394 -1.674630  2.450849  4.237262 -3.139817   \n",
       "27  3.417708 -5.783022 -3.208435 -4.253024  3.262146 -8.581332 -4.718669   \n",
       "19  4.885887 -3.924116  1.075940 -2.075750  1.733114 -5.805618  4.027299   \n",
       "35  5.222698 -3.621023 -2.629663 -2.002624  3.734591 -4.231707 -4.362481   \n",
       "10  9.868436  3.564868  3.452636  3.991394 -3.004276  4.507389  4.507417   \n",
       "4   9.684129  2.352003  4.006768  3.999665  2.806521  4.684030  3.395910   \n",
       "6   8.806609 -5.212862  3.764755  2.226077 -4.171310  4.049860  2.932929   \n",
       "3   9.770127  2.484607  4.132808  3.346088 -2.318873  3.598812  3.485198   \n",
       "38  4.348057 -2.649288  1.915446  1.500498  3.487319  3.518162 -3.100172   \n",
       "5   9.653219 -2.203626  3.959231  3.138848  2.119956  4.315540  3.865281   \n",
       "33  4.211295 -3.290885 -2.575628 -0.530667  3.587388 -5.942611 -3.307695   \n",
       "28  2.964295 -5.411480 -2.870244 -4.054147  3.334788 -9.799815  1.161304   \n",
       "20  4.351870 -4.512111 -1.931837 -2.334712  2.890729  2.445799 -3.614376   \n",
       "26  3.531706 -3.350910 -2.472362 -2.333913  2.945011  3.400174 -3.706674   \n",
       "36  4.176852 -2.510032  2.011805  2.506324  3.745953 -3.981360 -3.778552   \n",
       "21  4.432044 -4.541204  2.317176 -3.236765  3.451591 -6.861935  0.445619   \n",
       "39  4.791545 -2.970771 -2.503877  2.548868  3.039437 -3.734825  2.845656   \n",
       "31  4.083856 -4.572420 -0.431344 -2.680786  1.520319 -5.206187 -3.715304   \n",
       "34  3.446291 -3.664145  1.529023 -2.862925  3.571116  0.998782  3.129214   \n",
       "7   9.338185  3.217988  3.921495  3.990827  3.441071  4.398572  3.322895   \n",
       "11  8.400369  0.291203  3.882330 -1.453431 -2.902564  3.827527  2.652005   \n",
       "18  4.456713 -3.323030 -0.871927 -2.385642  3.449857 -4.613078 -3.692973   \n",
       "22  4.422241 -3.911891 -2.502187  3.831805  2.847590 -3.745224 -4.015390   \n",
       "8   8.838490  1.835926  3.674818  3.150779 -3.175421  4.245866  2.963591   \n",
       "15  3.513129 -3.718196  1.757240 -2.404053  3.856146 -6.280511 -3.749209   \n",
       "40  3.498851 -6.129199 -0.677810 -4.765731  3.494543 -9.394716  4.282662   \n",
       "\n",
       "     THADA.2    USP34.1       MUC4     MUC4.1      GRM8  \n",
       "42 -2.510189   3.301537  -7.475838  -7.496862 -3.146748  \n",
       "30 -4.052586  -6.076564  -6.552048   2.855514  0.972003  \n",
       "32 -3.658977   3.680335  -5.214754   3.088543  1.859429  \n",
       "1   3.262082   4.328063   3.516237   3.947593  3.893425  \n",
       "23 -3.967002   1.935608   1.934495   0.498037  2.455753  \n",
       "25 -2.551092   2.481772  -4.105153  -7.369860 -2.917247  \n",
       "27 -5.711027  -8.972887 -10.242843 -10.270150 -0.896016  \n",
       "19 -3.859340   3.937799  -3.591492   5.105906 -0.172333  \n",
       "35  2.707120   4.080518  -9.712645  -9.735484  1.118679  \n",
       "10  1.059062   5.447287   2.021562   3.751630  3.648554  \n",
       "4   3.371131   4.232402   3.049082   4.009281  3.822086  \n",
       "6   3.497425  -5.689052  -7.656588   3.004280  3.617272  \n",
       "3   3.131198   4.846430   1.075238   3.338574  3.634348  \n",
       "38 -2.609340   4.350981  -8.018729  -8.033903 -0.332707  \n",
       "5   3.010219   3.940608   2.976749   3.487626  3.663504  \n",
       "33  3.161384  -1.340686  -4.390052   4.268288 -2.766282  \n",
       "28 -5.327022 -10.242253   2.520808  -1.079552 -4.323406  \n",
       "20  1.658743   1.684757  -3.357164   1.808683 -2.968838  \n",
       "26 -3.300662   1.906380   3.287082  -6.572588  1.180483  \n",
       "36  1.166507   3.220113  -6.719239  -6.745193 -2.649652  \n",
       "21 -4.485966  -7.177771  -5.424038  -5.448520 -1.886404  \n",
       "39  1.828294   4.686190   4.199726  -5.741164  0.126735  \n",
       "31 -4.509871   3.144927   2.337044   2.376417  0.506879  \n",
       "34 -3.602986  -6.878815   2.663138  -8.688155 -0.446293  \n",
       "7   2.891394   4.486166   0.523162  -1.399429  3.889251  \n",
       "11  2.416357   3.466171  -8.029123  -8.058402  4.107710  \n",
       "18 -2.639613   3.250468   1.962857  -6.579976 -0.983430  \n",
       "22 -3.856876   4.616849  -5.801312   3.825754 -2.395118  \n",
       "8   2.305933   2.656894   3.363008  -7.395590  3.745679  \n",
       "15 -3.654659  -6.572729  -9.115974  -9.136356 -3.594257  \n",
       "40 -4.091081   1.966941  -8.118631   3.979740  1.525173  "
      ]
     },
     "execution_count": 41,
     "metadata": {},
     "output_type": "execute_result"
    }
   ],
   "source": [
    "train_x= x_train.drop(corr_features,axis=1)\n",
    "train_x"
   ]
  },
  {
   "cell_type": "code",
   "execution_count": 42,
   "id": "26443e19",
   "metadata": {},
   "outputs": [
    {
     "data": {
      "text/html": [
       "<div>\n",
       "<style scoped>\n",
       "    .dataframe tbody tr th:only-of-type {\n",
       "        vertical-align: middle;\n",
       "    }\n",
       "\n",
       "    .dataframe tbody tr th {\n",
       "        vertical-align: top;\n",
       "    }\n",
       "\n",
       "    .dataframe thead th {\n",
       "        text-align: right;\n",
       "    }\n",
       "</style>\n",
       "<table border=\"1\" class=\"dataframe\">\n",
       "  <thead>\n",
       "    <tr style=\"text-align: right;\">\n",
       "      <th></th>\n",
       "      <th>LRRFIP1</th>\n",
       "      <th>THADA</th>\n",
       "      <th>RGS6</th>\n",
       "      <th>ZNF638</th>\n",
       "      <th>PLXNB1</th>\n",
       "      <th>USP34</th>\n",
       "      <th>THSD7B</th>\n",
       "      <th>THADA.2</th>\n",
       "      <th>USP34.1</th>\n",
       "      <th>MUC4</th>\n",
       "      <th>MUC4.1</th>\n",
       "      <th>GRM8</th>\n",
       "    </tr>\n",
       "  </thead>\n",
       "  <tbody>\n",
       "    <tr>\n",
       "      <th>41</th>\n",
       "      <td>3.927951</td>\n",
       "      <td>-3.407865</td>\n",
       "      <td>0.625626</td>\n",
       "      <td>1.291287</td>\n",
       "      <td>2.339537</td>\n",
       "      <td>4.051089</td>\n",
       "      <td>3.547001</td>\n",
       "      <td>3.247010</td>\n",
       "      <td>4.552660</td>\n",
       "      <td>3.731118</td>\n",
       "      <td>2.482538</td>\n",
       "      <td>-2.890412</td>\n",
       "    </tr>\n",
       "    <tr>\n",
       "      <th>17</th>\n",
       "      <td>3.562772</td>\n",
       "      <td>-3.399518</td>\n",
       "      <td>0.897198</td>\n",
       "      <td>-2.252563</td>\n",
       "      <td>3.677969</td>\n",
       "      <td>3.483826</td>\n",
       "      <td>-3.995434</td>\n",
       "      <td>-3.350960</td>\n",
       "      <td>3.363415</td>\n",
       "      <td>-8.504064</td>\n",
       "      <td>-8.533670</td>\n",
       "      <td>1.595009</td>\n",
       "    </tr>\n",
       "    <tr>\n",
       "      <th>43</th>\n",
       "      <td>4.230561</td>\n",
       "      <td>-3.772424</td>\n",
       "      <td>1.211193</td>\n",
       "      <td>3.293333</td>\n",
       "      <td>-3.259810</td>\n",
       "      <td>3.976234</td>\n",
       "      <td>3.870262</td>\n",
       "      <td>-3.708675</td>\n",
       "      <td>5.108105</td>\n",
       "      <td>0.441683</td>\n",
       "      <td>5.142780</td>\n",
       "      <td>1.379122</td>\n",
       "    </tr>\n",
       "    <tr>\n",
       "      <th>14</th>\n",
       "      <td>9.258886</td>\n",
       "      <td>1.205139</td>\n",
       "      <td>3.959736</td>\n",
       "      <td>-0.155981</td>\n",
       "      <td>-3.006811</td>\n",
       "      <td>4.195192</td>\n",
       "      <td>3.083848</td>\n",
       "      <td>3.372554</td>\n",
       "      <td>4.406601</td>\n",
       "      <td>1.983859</td>\n",
       "      <td>4.450916</td>\n",
       "      <td>3.225381</td>\n",
       "    </tr>\n",
       "    <tr>\n",
       "      <th>44</th>\n",
       "      <td>4.317449</td>\n",
       "      <td>-3.420387</td>\n",
       "      <td>-0.522518</td>\n",
       "      <td>2.743454</td>\n",
       "      <td>1.803664</td>\n",
       "      <td>-0.765126</td>\n",
       "      <td>-3.464521</td>\n",
       "      <td>-3.364231</td>\n",
       "      <td>4.484494</td>\n",
       "      <td>-3.329633</td>\n",
       "      <td>5.272234</td>\n",
       "      <td>-3.008029</td>\n",
       "    </tr>\n",
       "    <tr>\n",
       "      <th>29</th>\n",
       "      <td>4.295255</td>\n",
       "      <td>-3.160103</td>\n",
       "      <td>-2.363163</td>\n",
       "      <td>-1.966432</td>\n",
       "      <td>2.957547</td>\n",
       "      <td>-4.777610</td>\n",
       "      <td>-3.676827</td>\n",
       "      <td>0.036697</td>\n",
       "      <td>4.298974</td>\n",
       "      <td>-8.327059</td>\n",
       "      <td>-8.346675</td>\n",
       "      <td>0.289582</td>\n",
       "    </tr>\n",
       "    <tr>\n",
       "      <th>12</th>\n",
       "      <td>9.815094</td>\n",
       "      <td>3.842083</td>\n",
       "      <td>3.586602</td>\n",
       "      <td>4.475351</td>\n",
       "      <td>-2.623598</td>\n",
       "      <td>4.915028</td>\n",
       "      <td>-3.668428</td>\n",
       "      <td>1.625119</td>\n",
       "      <td>5.092280</td>\n",
       "      <td>-8.012350</td>\n",
       "      <td>-8.032293</td>\n",
       "      <td>3.872800</td>\n",
       "    </tr>\n",
       "    <tr>\n",
       "      <th>13</th>\n",
       "      <td>9.449920</td>\n",
       "      <td>0.340549</td>\n",
       "      <td>4.354846</td>\n",
       "      <td>3.316879</td>\n",
       "      <td>-3.177312</td>\n",
       "      <td>4.092825</td>\n",
       "      <td>2.961306</td>\n",
       "      <td>2.599274</td>\n",
       "      <td>3.247368</td>\n",
       "      <td>-4.727042</td>\n",
       "      <td>4.180802</td>\n",
       "      <td>3.830884</td>\n",
       "    </tr>\n",
       "    <tr>\n",
       "      <th>0</th>\n",
       "      <td>9.494352</td>\n",
       "      <td>2.973412</td>\n",
       "      <td>4.060297</td>\n",
       "      <td>3.327416</td>\n",
       "      <td>-3.678679</td>\n",
       "      <td>3.734166</td>\n",
       "      <td>1.581672</td>\n",
       "      <td>-1.575419</td>\n",
       "      <td>4.864425</td>\n",
       "      <td>3.820520</td>\n",
       "      <td>4.281915</td>\n",
       "      <td>1.937028</td>\n",
       "    </tr>\n",
       "    <tr>\n",
       "      <th>2</th>\n",
       "      <td>10.032375</td>\n",
       "      <td>2.944126</td>\n",
       "      <td>4.073012</td>\n",
       "      <td>3.370234</td>\n",
       "      <td>-3.444682</td>\n",
       "      <td>4.534576</td>\n",
       "      <td>3.144821</td>\n",
       "      <td>2.783184</td>\n",
       "      <td>4.896634</td>\n",
       "      <td>3.424110</td>\n",
       "      <td>-7.450973</td>\n",
       "      <td>4.037966</td>\n",
       "    </tr>\n",
       "    <tr>\n",
       "      <th>9</th>\n",
       "      <td>9.325286</td>\n",
       "      <td>0.701625</td>\n",
       "      <td>3.748608</td>\n",
       "      <td>4.108544</td>\n",
       "      <td>-3.206067</td>\n",
       "      <td>3.894619</td>\n",
       "      <td>3.765092</td>\n",
       "      <td>2.626495</td>\n",
       "      <td>4.589495</td>\n",
       "      <td>-1.862381</td>\n",
       "      <td>4.503778</td>\n",
       "      <td>3.815797</td>\n",
       "    </tr>\n",
       "    <tr>\n",
       "      <th>16</th>\n",
       "      <td>3.453391</td>\n",
       "      <td>-4.451040</td>\n",
       "      <td>0.230273</td>\n",
       "      <td>-3.116353</td>\n",
       "      <td>3.565033</td>\n",
       "      <td>1.718169</td>\n",
       "      <td>-3.812132</td>\n",
       "      <td>2.443406</td>\n",
       "      <td>-6.823428</td>\n",
       "      <td>-8.430799</td>\n",
       "      <td>-8.487840</td>\n",
       "      <td>1.999498</td>\n",
       "    </tr>\n",
       "    <tr>\n",
       "      <th>37</th>\n",
       "      <td>3.551257</td>\n",
       "      <td>-2.880994</td>\n",
       "      <td>-0.940455</td>\n",
       "      <td>3.825689</td>\n",
       "      <td>-2.146035</td>\n",
       "      <td>4.595665</td>\n",
       "      <td>-4.187007</td>\n",
       "      <td>-2.842586</td>\n",
       "      <td>5.259645</td>\n",
       "      <td>2.676141</td>\n",
       "      <td>3.332022</td>\n",
       "      <td>-3.099097</td>\n",
       "    </tr>\n",
       "    <tr>\n",
       "      <th>24</th>\n",
       "      <td>4.131710</td>\n",
       "      <td>-3.034824</td>\n",
       "      <td>-1.705457</td>\n",
       "      <td>-0.172747</td>\n",
       "      <td>3.188712</td>\n",
       "      <td>-5.985736</td>\n",
       "      <td>-4.133423</td>\n",
       "      <td>-2.992878</td>\n",
       "      <td>3.829741</td>\n",
       "      <td>-8.242916</td>\n",
       "      <td>-8.267421</td>\n",
       "      <td>1.708261</td>\n",
       "    </tr>\n",
       "  </tbody>\n",
       "</table>\n",
       "</div>"
      ],
      "text/plain": [
       "      LRRFIP1     THADA      RGS6    ZNF638    PLXNB1     USP34    THSD7B  \\\n",
       "41   3.927951 -3.407865  0.625626  1.291287  2.339537  4.051089  3.547001   \n",
       "17   3.562772 -3.399518  0.897198 -2.252563  3.677969  3.483826 -3.995434   \n",
       "43   4.230561 -3.772424  1.211193  3.293333 -3.259810  3.976234  3.870262   \n",
       "14   9.258886  1.205139  3.959736 -0.155981 -3.006811  4.195192  3.083848   \n",
       "44   4.317449 -3.420387 -0.522518  2.743454  1.803664 -0.765126 -3.464521   \n",
       "29   4.295255 -3.160103 -2.363163 -1.966432  2.957547 -4.777610 -3.676827   \n",
       "12   9.815094  3.842083  3.586602  4.475351 -2.623598  4.915028 -3.668428   \n",
       "13   9.449920  0.340549  4.354846  3.316879 -3.177312  4.092825  2.961306   \n",
       "0    9.494352  2.973412  4.060297  3.327416 -3.678679  3.734166  1.581672   \n",
       "2   10.032375  2.944126  4.073012  3.370234 -3.444682  4.534576  3.144821   \n",
       "9    9.325286  0.701625  3.748608  4.108544 -3.206067  3.894619  3.765092   \n",
       "16   3.453391 -4.451040  0.230273 -3.116353  3.565033  1.718169 -3.812132   \n",
       "37   3.551257 -2.880994 -0.940455  3.825689 -2.146035  4.595665 -4.187007   \n",
       "24   4.131710 -3.034824 -1.705457 -0.172747  3.188712 -5.985736 -4.133423   \n",
       "\n",
       "     THADA.2   USP34.1      MUC4    MUC4.1      GRM8  \n",
       "41  3.247010  4.552660  3.731118  2.482538 -2.890412  \n",
       "17 -3.350960  3.363415 -8.504064 -8.533670  1.595009  \n",
       "43 -3.708675  5.108105  0.441683  5.142780  1.379122  \n",
       "14  3.372554  4.406601  1.983859  4.450916  3.225381  \n",
       "44 -3.364231  4.484494 -3.329633  5.272234 -3.008029  \n",
       "29  0.036697  4.298974 -8.327059 -8.346675  0.289582  \n",
       "12  1.625119  5.092280 -8.012350 -8.032293  3.872800  \n",
       "13  2.599274  3.247368 -4.727042  4.180802  3.830884  \n",
       "0  -1.575419  4.864425  3.820520  4.281915  1.937028  \n",
       "2   2.783184  4.896634  3.424110 -7.450973  4.037966  \n",
       "9   2.626495  4.589495 -1.862381  4.503778  3.815797  \n",
       "16  2.443406 -6.823428 -8.430799 -8.487840  1.999498  \n",
       "37 -2.842586  5.259645  2.676141  3.332022 -3.099097  \n",
       "24 -2.992878  3.829741 -8.242916 -8.267421  1.708261  "
      ]
     },
     "execution_count": 42,
     "metadata": {},
     "output_type": "execute_result"
    }
   ],
   "source": [
    "test_x=x_test.drop(corr_features,axis=1)\n",
    "test_x"
   ]
  },
  {
   "cell_type": "code",
   "execution_count": 43,
   "id": "1ec00f18",
   "metadata": {},
   "outputs": [
    {
     "data": {
      "text/plain": [
       "(14, 1)"
      ]
     },
     "execution_count": 43,
     "metadata": {},
     "output_type": "execute_result"
    }
   ],
   "source": [
    "y_test.shape"
   ]
  },
  {
   "cell_type": "code",
   "execution_count": 44,
   "id": "8f8be0cf",
   "metadata": {},
   "outputs": [
    {
     "data": {
      "text/plain": [
       "(31, 1)"
      ]
     },
     "execution_count": 44,
     "metadata": {},
     "output_type": "execute_result"
    }
   ],
   "source": [
    "y_train.shape"
   ]
  },
  {
   "cell_type": "code",
   "execution_count": 45,
   "id": "4a92afba",
   "metadata": {},
   "outputs": [
    {
     "data": {
      "text/plain": [
       "(31, 12)"
      ]
     },
     "execution_count": 45,
     "metadata": {},
     "output_type": "execute_result"
    }
   ],
   "source": [
    "train_x.shape"
   ]
  },
  {
   "cell_type": "code",
   "execution_count": 46,
   "id": "c371ee70",
   "metadata": {},
   "outputs": [
    {
     "data": {
      "text/plain": [
       "(14, 12)"
      ]
     },
     "execution_count": 46,
     "metadata": {},
     "output_type": "execute_result"
    }
   ],
   "source": [
    "test_x.shape"
   ]
  },
  {
   "cell_type": "markdown",
   "id": "caa3e3e9",
   "metadata": {},
   "source": [
    "# Training with the model"
   ]
  },
  {
   "cell_type": "markdown",
   "id": "5ad5a034",
   "metadata": {},
   "source": [
    "## Decision Tree classifier"
   ]
  },
  {
   "cell_type": "code",
   "execution_count": 47,
   "id": "800cd7e3",
   "metadata": {},
   "outputs": [],
   "source": [
    "from sklearn.tree import DecisionTreeClassifier"
   ]
  },
  {
   "cell_type": "code",
   "execution_count": 48,
   "id": "8697bfcb",
   "metadata": {},
   "outputs": [],
   "source": [
    "Clf = DecisionTreeClassifier()"
   ]
  },
  {
   "cell_type": "code",
   "execution_count": 49,
   "id": "543517e4",
   "metadata": {},
   "outputs": [
    {
     "data": {
      "text/html": [
       "<style>#sk-container-id-1 {color: black;background-color: white;}#sk-container-id-1 pre{padding: 0;}#sk-container-id-1 div.sk-toggleable {background-color: white;}#sk-container-id-1 label.sk-toggleable__label {cursor: pointer;display: block;width: 100%;margin-bottom: 0;padding: 0.3em;box-sizing: border-box;text-align: center;}#sk-container-id-1 label.sk-toggleable__label-arrow:before {content: \"▸\";float: left;margin-right: 0.25em;color: #696969;}#sk-container-id-1 label.sk-toggleable__label-arrow:hover:before {color: black;}#sk-container-id-1 div.sk-estimator:hover label.sk-toggleable__label-arrow:before {color: black;}#sk-container-id-1 div.sk-toggleable__content {max-height: 0;max-width: 0;overflow: hidden;text-align: left;background-color: #f0f8ff;}#sk-container-id-1 div.sk-toggleable__content pre {margin: 0.2em;color: black;border-radius: 0.25em;background-color: #f0f8ff;}#sk-container-id-1 input.sk-toggleable__control:checked~div.sk-toggleable__content {max-height: 200px;max-width: 100%;overflow: auto;}#sk-container-id-1 input.sk-toggleable__control:checked~label.sk-toggleable__label-arrow:before {content: \"▾\";}#sk-container-id-1 div.sk-estimator input.sk-toggleable__control:checked~label.sk-toggleable__label {background-color: #d4ebff;}#sk-container-id-1 div.sk-label input.sk-toggleable__control:checked~label.sk-toggleable__label {background-color: #d4ebff;}#sk-container-id-1 input.sk-hidden--visually {border: 0;clip: rect(1px 1px 1px 1px);clip: rect(1px, 1px, 1px, 1px);height: 1px;margin: -1px;overflow: hidden;padding: 0;position: absolute;width: 1px;}#sk-container-id-1 div.sk-estimator {font-family: monospace;background-color: #f0f8ff;border: 1px dotted black;border-radius: 0.25em;box-sizing: border-box;margin-bottom: 0.5em;}#sk-container-id-1 div.sk-estimator:hover {background-color: #d4ebff;}#sk-container-id-1 div.sk-parallel-item::after {content: \"\";width: 100%;border-bottom: 1px solid gray;flex-grow: 1;}#sk-container-id-1 div.sk-label:hover label.sk-toggleable__label {background-color: #d4ebff;}#sk-container-id-1 div.sk-serial::before {content: \"\";position: absolute;border-left: 1px solid gray;box-sizing: border-box;top: 0;bottom: 0;left: 50%;z-index: 0;}#sk-container-id-1 div.sk-serial {display: flex;flex-direction: column;align-items: center;background-color: white;padding-right: 0.2em;padding-left: 0.2em;position: relative;}#sk-container-id-1 div.sk-item {position: relative;z-index: 1;}#sk-container-id-1 div.sk-parallel {display: flex;align-items: stretch;justify-content: center;background-color: white;position: relative;}#sk-container-id-1 div.sk-item::before, #sk-container-id-1 div.sk-parallel-item::before {content: \"\";position: absolute;border-left: 1px solid gray;box-sizing: border-box;top: 0;bottom: 0;left: 50%;z-index: -1;}#sk-container-id-1 div.sk-parallel-item {display: flex;flex-direction: column;z-index: 1;position: relative;background-color: white;}#sk-container-id-1 div.sk-parallel-item:first-child::after {align-self: flex-end;width: 50%;}#sk-container-id-1 div.sk-parallel-item:last-child::after {align-self: flex-start;width: 50%;}#sk-container-id-1 div.sk-parallel-item:only-child::after {width: 0;}#sk-container-id-1 div.sk-dashed-wrapped {border: 1px dashed gray;margin: 0 0.4em 0.5em 0.4em;box-sizing: border-box;padding-bottom: 0.4em;background-color: white;}#sk-container-id-1 div.sk-label label {font-family: monospace;font-weight: bold;display: inline-block;line-height: 1.2em;}#sk-container-id-1 div.sk-label-container {text-align: center;}#sk-container-id-1 div.sk-container {/* jupyter's `normalize.less` sets `[hidden] { display: none; }` but bootstrap.min.css set `[hidden] { display: none !important; }` so we also need the `!important` here to be able to override the default hidden behavior on the sphinx rendered scikit-learn.org. See: https://github.com/scikit-learn/scikit-learn/issues/21755 */display: inline-block !important;position: relative;}#sk-container-id-1 div.sk-text-repr-fallback {display: none;}</style><div id=\"sk-container-id-1\" class=\"sk-top-container\"><div class=\"sk-text-repr-fallback\"><pre>DecisionTreeClassifier()</pre><b>In a Jupyter environment, please rerun this cell to show the HTML representation or trust the notebook. <br />On GitHub, the HTML representation is unable to render, please try loading this page with nbviewer.org.</b></div><div class=\"sk-container\" hidden><div class=\"sk-item\"><div class=\"sk-estimator sk-toggleable\"><input class=\"sk-toggleable__control sk-hidden--visually\" id=\"sk-estimator-id-1\" type=\"checkbox\" checked><label for=\"sk-estimator-id-1\" class=\"sk-toggleable__label sk-toggleable__label-arrow\">DecisionTreeClassifier</label><div class=\"sk-toggleable__content\"><pre>DecisionTreeClassifier()</pre></div></div></div></div></div>"
      ],
      "text/plain": [
       "DecisionTreeClassifier()"
      ]
     },
     "execution_count": 49,
     "metadata": {},
     "output_type": "execute_result"
    }
   ],
   "source": [
    "Clf.fit(train_x,y_train)"
   ]
  },
  {
   "cell_type": "code",
   "execution_count": 50,
   "id": "df9f9a24",
   "metadata": {},
   "outputs": [],
   "source": [
    "y_pred=Clf.predict(test_x)"
   ]
  },
  {
   "cell_type": "code",
   "execution_count": 51,
   "id": "d93d6ea2",
   "metadata": {},
   "outputs": [
    {
     "name": "stdout",
     "output_type": "stream",
     "text": [
      "Actual 0.9285714285714286\n"
     ]
    }
   ],
   "source": [
    "from sklearn.metrics import accuracy_score\n",
    "print(\"Actual\",accuracy_score(y_test,y_pred))"
   ]
  },
  {
   "cell_type": "code",
   "execution_count": 53,
   "id": "b9b3a27f",
   "metadata": {},
   "outputs": [],
   "source": [
    "from sklearn.tree import plot_tree"
   ]
  },
  {
   "cell_type": "code",
   "execution_count": 54,
   "id": "b594a209",
   "metadata": {
    "scrolled": true
   },
   "outputs": [
    {
     "data": {
      "text/plain": [
       "[Text(0.5, 0.75, 'X[11] <= 3.037\\ngini = 0.412\\nsamples = 31\\nvalue = [9, 22]'),\n",
       " Text(0.25, 0.25, 'gini = 0.0\\nsamples = 22\\nvalue = [0, 22]'),\n",
       " Text(0.75, 0.25, 'gini = 0.0\\nsamples = 9\\nvalue = [9, 0]')]"
      ]
     },
     "execution_count": 54,
     "metadata": {},
     "output_type": "execute_result"
    },
    {
     "data": {
      "image/png": "[encoded data removed]",
      "text/plain": [
       "<Figure size 2160x720 with 1 Axes>"
      ]
     },
     "metadata": {
      "needs_background": "light"
     },
     "output_type": "display_data"
    }
   ],
   "source": [
    "from matplotlib.pylab import rcParams\n",
    "rcParams['figure.figsize']= 30,10\n",
    "\n",
    "plot_tree(Clf)"
   ]
  },
  {
   "cell_type": "markdown",
   "id": "a91740ee",
   "metadata": {},
   "source": [
    "## prediction"
   ]
  },
  {
   "cell_type": "code",
   "execution_count": 55,
   "id": "8b4ee6fa",
   "metadata": {},
   "outputs": [],
   "source": [
    "import numpy as np"
   ]
  },
  {
   "cell_type": "code",
   "execution_count": 59,
   "id": "c3371eb6",
   "metadata": {},
   "outputs": [],
   "source": [
    "predict_sample = [10.186781,-3.529923,-0.887668,-2.457289,-3.121166,3.425542,-3.654626,-3.484525,4.134307,3.763114,-1.908931,4.083599\n",
    "]"
   ]
  },
  {
   "cell_type": "code",
   "execution_count": 60,
   "id": "47e7cb8f",
   "metadata": {},
   "outputs": [
    {
     "data": {
      "text/plain": [
       "array([[10.186781, -3.529923, -0.887668, -2.457289, -3.121166,  3.425542,\n",
       "        -3.654626, -3.484525,  4.134307,  3.763114, -1.908931,  4.083599]])"
      ]
     },
     "execution_count": 60,
     "metadata": {},
     "output_type": "execute_result"
    }
   ],
   "source": [
    "pred_sample=np.array([predict_sample])\n",
    "pred_sample"
   ]
  },
  {
   "cell_type": "code",
   "execution_count": 61,
   "id": "dd1f6180",
   "metadata": {},
   "outputs": [
    {
     "data": {
      "text/plain": [
       "array([0], dtype=int64)"
      ]
     },
     "execution_count": 61,
     "metadata": {},
     "output_type": "execute_result"
    }
   ],
   "source": [
    "Clf.predict(pred_sample)"
   ]
  },
  {
   "cell_type": "code",
   "execution_count": 66,
   "id": "e831684c",
   "metadata": {},
   "outputs": [
    {
     "data": {
      "text/plain": [
       "array([[ 3.446291, -3.664145,  1.529023, -2.862925,  3.571116,  0.998782,\n",
       "         3.129214, -3.602986, -6.878815,  2.663138, -8.688155, -0.446293]])"
      ]
     },
     "execution_count": 66,
     "metadata": {},
     "output_type": "execute_result"
    }
   ],
   "source": [
    "pred_sample2 = [3.446291,-3.664145,1.529023,-2.862925,3.571116,0.998782,3.129214,-3.602986,-6.878815,2.663138,-8.688155\n",
    ",-0.446293\n",
    "]\n",
    "pred_samp2 = np.array([pred_sample2])\n",
    "pred_samp2"
   ]
  },
  {
   "cell_type": "code",
   "execution_count": 67,
   "id": "877813ba",
   "metadata": {},
   "outputs": [
    {
     "data": {
      "text/plain": [
       "array([1], dtype=int64)"
      ]
     },
     "execution_count": 67,
     "metadata": {},
     "output_type": "execute_result"
    }
   ],
   "source": [
    "Clf.predict(pred_samp2)"
   ]
  }
 ],
 "metadata": {
  "kernelspec": {
   "display_name": "Python 3 (ipykernel)",
   "language": "python",
   "name": "python3"
  },
  "language_info": {
   "codemirror_mode": {
    "name": "ipython",
    "version": 3
   },
   "file_extension": ".py",
   "mimetype": "text/x-python",
   "name": "python",
   "nbconvert_exporter": "python",
   "pygments_lexer": "ipython3",
   "version": "3.9.7"
  }
 },
 "nbformat": 4,
 "nbformat_minor": 5
}
